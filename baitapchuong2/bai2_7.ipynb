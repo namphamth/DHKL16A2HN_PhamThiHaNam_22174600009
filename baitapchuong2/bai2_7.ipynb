{
 "cells": [
  {
   "cell_type": "code",
   "execution_count": 2,
   "metadata": {},
   "outputs": [
    {
     "name": "stdout",
     "output_type": "stream",
     "text": [
      "{'mã sinh viên': '34566', 'lớp': 'DHKL', 'tên': 'Nam'}\n",
      "<class 'dict'>\n"
     ]
    }
   ],
   "source": [
    "import json\n",
    "json_string='{\"mã sinh viên\":\"34566\",\"lớp\":\"DHKL\",\"tên\":\"Nam\"}'\n",
    "# Chuyển chuỗi JSON thành đối tượng Python (đối tượng JSON)\n",
    "json_obj=json.loads(json_string)\n",
    "print(json_obj)\n",
    "print(type(json_obj))\n"
   ]
  }
 ],
 "metadata": {
  "kernelspec": {
   "display_name": "Python 3",
   "language": "python",
   "name": "python3"
  },
  "language_info": {
   "codemirror_mode": {
    "name": "ipython",
    "version": 3
   },
   "file_extension": ".py",
   "mimetype": "text/x-python",
   "name": "python",
   "nbconvert_exporter": "python",
   "pygments_lexer": "ipython3",
   "version": "3.10.10"
  }
 },
 "nbformat": 4,
 "nbformat_minor": 2
}
