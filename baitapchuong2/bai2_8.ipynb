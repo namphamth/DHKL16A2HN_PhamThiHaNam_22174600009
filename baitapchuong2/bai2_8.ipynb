{
 "cells": [
  {
   "cell_type": "code",
   "execution_count": 1,
   "metadata": {},
   "outputs": [
    {
     "name": "stdout",
     "output_type": "stream",
     "text": [
      "{\"mã sinh viên\": \"34566\", \"lớp\": \"DHKL\", \"tên\": \"Nam\"}\n",
      "<class 'str'>\n"
     ]
    }
   ],
   "source": [
    "import json\n",
    "data={\n",
    "    \"mã sinh viên\":\"34566\",\n",
    "    \"lớp\":\"DHKL\",\n",
    "    \"tên\":\"Nam\"\n",
    "}\n",
    "# Chuyển đối tượng Python thành chuỗi JSON\n",
    "json_obj= json.dumps(data, ensure_ascii=False)\n",
    "print(json_obj)\n",
    "print(type(json_obj))"
   ]
  }
 ],
 "metadata": {
  "kernelspec": {
   "display_name": "Python 3",
   "language": "python",
   "name": "python3"
  },
  "language_info": {
   "codemirror_mode": {
    "name": "ipython",
    "version": 3
   },
   "file_extension": ".py",
   "mimetype": "text/x-python",
   "name": "python",
   "nbconvert_exporter": "python",
   "pygments_lexer": "ipython3",
   "version": "3.10.10"
  }
 },
 "nbformat": 4,
 "nbformat_minor": 2
}
