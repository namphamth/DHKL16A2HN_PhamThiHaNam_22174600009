{
 "cells": [
  {
   "cell_type": "code",
   "execution_count": 8,
   "metadata": {},
   "outputs": [],
   "source": [
    "import numpy as np"
   ]
  },
  {
   "cell_type": "code",
   "execution_count": 18,
   "metadata": {},
   "outputs": [
    {
     "ename": "UnicodeDecodeError",
     "evalue": "'utf-8' codec can't decode byte 0xff in position 0: invalid start byte",
     "output_type": "error",
     "traceback": [
      "\u001b[0;31m---------------------------------------------------------------------------\u001b[0m",
      "\u001b[0;31mUnicodeDecodeError\u001b[0m                        Traceback (most recent call last)",
      "\u001b[1;32m/Users/nguyenxuanty/Downloads/baitapvidu_chuong3/bai3.5.ipynb Cell 2\u001b[0m line \u001b[0;36m3\n\u001b[1;32m      <a href='vscode-notebook-cell:/Users/nguyenxuanty/Downloads/baitapvidu_chuong3/bai3.5.ipynb#W1sZmlsZQ%3D%3D?line=0'>1</a>\u001b[0m \u001b[39m# Đọc dữ liệu từ tập tin heights_1.txt và weights_1.txt\u001b[39;00m\n\u001b[1;32m      <a href='vscode-notebook-cell:/Users/nguyenxuanty/Downloads/baitapvidu_chuong3/bai3.5.ipynb#W1sZmlsZQ%3D%3D?line=1'>2</a>\u001b[0m \u001b[39mwith\u001b[39;00m \u001b[39mopen\u001b[39m(\u001b[39m'\u001b[39m\u001b[39mheights_1.txt\u001b[39m\u001b[39m'\u001b[39m, \u001b[39m'\u001b[39m\u001b[39mr\u001b[39m\u001b[39m'\u001b[39m ) \u001b[39mas\u001b[39;00m height_file :\n\u001b[0;32m----> <a href='vscode-notebook-cell:/Users/nguyenxuanty/Downloads/baitapvidu_chuong3/bai3.5.ipynb#W1sZmlsZQ%3D%3D?line=2'>3</a>\u001b[0m    read \u001b[39m=\u001b[39m height_file\u001b[39m.\u001b[39;49mread()\n\u001b[1;32m      <a href='vscode-notebook-cell:/Users/nguyenxuanty/Downloads/baitapvidu_chuong3/bai3.5.ipynb#W1sZmlsZQ%3D%3D?line=3'>4</a>\u001b[0m heights \u001b[39m=\u001b[39m []\n\u001b[1;32m      <a href='vscode-notebook-cell:/Users/nguyenxuanty/Downloads/baitapvidu_chuong3/bai3.5.ipynb#W1sZmlsZQ%3D%3D?line=4'>5</a>\u001b[0m \u001b[39mfor\u001b[39;00m line \u001b[39min\u001b[39;00m read:\n",
      "File \u001b[0;32m/opt/homebrew/Cellar/python@3.10/3.10.10/Frameworks/Python.framework/Versions/3.10/lib/python3.10/codecs.py:322\u001b[0m, in \u001b[0;36mBufferedIncrementalDecoder.decode\u001b[0;34m(self, input, final)\u001b[0m\n\u001b[1;32m    319\u001b[0m \u001b[39mdef\u001b[39;00m \u001b[39mdecode\u001b[39m(\u001b[39mself\u001b[39m, \u001b[39minput\u001b[39m, final\u001b[39m=\u001b[39m\u001b[39mFalse\u001b[39;00m):\n\u001b[1;32m    320\u001b[0m     \u001b[39m# decode input (taking the buffer into account)\u001b[39;00m\n\u001b[1;32m    321\u001b[0m     data \u001b[39m=\u001b[39m \u001b[39mself\u001b[39m\u001b[39m.\u001b[39mbuffer \u001b[39m+\u001b[39m \u001b[39minput\u001b[39m\n\u001b[0;32m--> 322\u001b[0m     (result, consumed) \u001b[39m=\u001b[39m \u001b[39mself\u001b[39;49m\u001b[39m.\u001b[39;49m_buffer_decode(data, \u001b[39mself\u001b[39;49m\u001b[39m.\u001b[39;49merrors, final)\n\u001b[1;32m    323\u001b[0m     \u001b[39m# keep undecoded input until the next call\u001b[39;00m\n\u001b[1;32m    324\u001b[0m     \u001b[39mself\u001b[39m\u001b[39m.\u001b[39mbuffer \u001b[39m=\u001b[39m data[consumed:]\n",
      "\u001b[0;31mUnicodeDecodeError\u001b[0m: 'utf-8' codec can't decode byte 0xff in position 0: invalid start byte"
     ]
    }
   ],
   "source": [
    "# Đọc dữ liệu từ tập tin heights_1.txt và weights_1.txt\n",
    "with open('heights_1.txt', 'r' ) as height_file :\n",
    "   read = height_file.read()\n",
    "heights = []\n",
    "for line in read:\n",
    "     if line[-1] == '\\n':\n",
    "         heights.append(line[:-1])\n",
    "     else:\n",
    "         heights.append(line)\n",
    "         \n",
    "print(heights)\n",
    "         "
   ]
  },
  {
   "cell_type": "code",
   "execution_count": null,
   "metadata": {},
   "outputs": [],
   "source": [
    "# 1. Tạo numpy array arr_height từ list height.\n",
    "arr_height = np.array(height)\n",
    "print(\"arr_height:\", arr_height)"
   ]
  },
  {
   "cell_type": "code",
   "execution_count": 5,
   "metadata": {},
   "outputs": [
    {
     "ename": "NameError",
     "evalue": "name 'weight' is not defined",
     "output_type": "error",
     "traceback": [
      "\u001b[0;31m---------------------------------------------------------------------------\u001b[0m",
      "\u001b[0;31mNameError\u001b[0m                                 Traceback (most recent call last)",
      "\u001b[1;32m/Users/nguyenxuanty/Downloads/baitapvidu_chuong3/bai3.5.ipynb Cell 4\u001b[0m line \u001b[0;36m2\n\u001b[1;32m      <a href='vscode-notebook-cell:/Users/nguyenxuanty/Downloads/baitapvidu_chuong3/bai3.5.ipynb#W3sZmlsZQ%3D%3D?line=0'>1</a>\u001b[0m \u001b[39m# 2. Tạo numpy array arr_weight từ list weight.\u001b[39;00m\n\u001b[0;32m----> <a href='vscode-notebook-cell:/Users/nguyenxuanty/Downloads/baitapvidu_chuong3/bai3.5.ipynb#W3sZmlsZQ%3D%3D?line=1'>2</a>\u001b[0m arr_weight \u001b[39m=\u001b[39m np\u001b[39m.\u001b[39marray(weight)\n\u001b[1;32m      <a href='vscode-notebook-cell:/Users/nguyenxuanty/Downloads/baitapvidu_chuong3/bai3.5.ipynb#W3sZmlsZQ%3D%3D?line=2'>3</a>\u001b[0m \u001b[39mprint\u001b[39m(\u001b[39m\"\u001b[39m\u001b[39marr_weight:\u001b[39m\u001b[39m\"\u001b[39m, arr_weight)\n",
      "\u001b[0;31mNameError\u001b[0m: name 'weight' is not defined"
     ]
    }
   ],
   "source": [
    "# 2. Tạo numpy array arr_weight từ list weight.\n",
    "arr_weight = np.array(weight)\n",
    "print(\"arr_weight:\", arr_weight)"
   ]
  },
  {
   "cell_type": "code",
   "execution_count": 5,
   "metadata": {},
   "outputs": [
    {
     "name": "stdout",
     "output_type": "stream",
     "text": [
      "arr_height_m: [1.8796 1.8796 1.8288 ... 1.905  1.905  1.8542]\n"
     ]
    }
   ],
   "source": [
    "# 3. Hệ số quy đổi từ inch sang m là 0.0254, tạo arr_height_m.\n",
    "arr_height_m = arr_height * 0.0254\n",
    "print(\"arr_height_m:\", arr_height_m)"
   ]
  },
  {
   "cell_type": "code",
   "execution_count": 6,
   "metadata": {},
   "outputs": [
    {
     "name": "stdout",
     "output_type": "stream",
     "text": [
      "arr_weight_kg: [81.64656 97.52228 95.25432 ... 92.98636 86.18248 88.45044]\n"
     ]
    }
   ],
   "source": [
    "# 4. Hệ số quy đổi từ pound sang kg là 0.453592, tạo arr_weight_kg.\n",
    "arr_weight_kg = arr_weight * 0.453592\n",
    "print(\"arr_weight_kg:\", arr_weight_kg)"
   ]
  },
  {
   "cell_type": "code",
   "execution_count": 7,
   "metadata": {},
   "outputs": [
    {
     "name": "stdout",
     "output_type": "stream",
     "text": [
      "BMI: [23.11037639 27.60406069 28.48080465 ... 25.62295933 23.74810865\n",
      " 25.72686361]\n"
     ]
    }
   ],
   "source": [
    "# 5. Tính BMI của arr_height_m và arr_weight_kg.\n",
    "arr_bmi = arr_weight_kg / (arr_height_m ** 2)\n",
    "print(\"BMI:\", arr_bmi)"
   ]
  },
  {
   "cell_type": "code",
   "execution_count": 8,
   "metadata": {},
   "outputs": [
    {
     "name": "stdout",
     "output_type": "stream",
     "text": [
      "Cân nặng ở vị trí index 50: 88.45044\n"
     ]
    }
   ],
   "source": [
    "# 6. Giá trị cân nặng ở vị trí index = 50 trong arr_weight_kg.\n",
    "weight_50 = arr_weight_kg[50]\n",
    "print(\"Cân nặng ở vị trí index 50:\", weight_50)"
   ]
  },
  {
   "cell_type": "code",
   "execution_count": 9,
   "metadata": {},
   "outputs": [
    {
     "name": "stdout",
     "output_type": "stream",
     "text": [
      "arr_height_m_100: [1.8542 1.8288 1.8796 1.8542 1.8796 1.8288 1.8542 1.7526 1.8288 1.8542\n",
      " 1.905 ]\n"
     ]
    }
   ],
   "source": [
    "# 7. Tạo arr_height_m_100 gồm các phần tử có vị trí index từ 100 đến 110 (lấy cả index 110) trong arr_height_m.\n",
    "arr_height_m_100 = arr_height_m[100:111]\n",
    "print(\"arr_height_m_100:\", arr_height_m_100)"
   ]
  },
  {
   "cell_type": "code",
   "execution_count": 10,
   "metadata": {},
   "outputs": [
    {
     "name": "stdout",
     "output_type": "stream",
     "text": [
      "Các cầu thủ có BMI < 21: [20.54255679 20.54255679 20.69282047 20.69282047 20.34343189 20.34343189\n",
      " 20.69282047 20.15883472 19.4984471  20.69282047 20.9205219 ]\n"
     ]
    }
   ],
   "source": [
    "# 8. Các cầu thủ bóng chày có bmi < 21 trong arr_bmi.\n",
    "bmi_less_than_21 = arr_bmi[arr_bmi < 21]\n",
    "\n",
    "print(\"Các cầu thủ có BMI < 21:\", bmi_less_than_21)"
   ]
  },
  {
   "cell_type": "code",
   "execution_count": 11,
   "metadata": {},
   "outputs": [
    {
     "name": "stdout",
     "output_type": "stream",
     "text": [
      "Chiều cao trung bình: 1.8719529525653436 m\n",
      "Cân nặng trung bình: 91.48463237173281 kg\n"
     ]
    }
   ],
   "source": [
    "# 9. Chiều cao trung bình và cân nặng trung bình của các cầu thủ.\n",
    "average_height = np.mean(arr_height_m)\n",
    "average_weight = np.mean(arr_weight_kg)\n",
    "print(\"Chiều cao trung bình:\", average_height, \"m\")\n",
    "print(\"Cân nặng trung bình:\", average_weight, \"kg\")"
   ]
  },
  {
   "cell_type": "code",
   "execution_count": 12,
   "metadata": {},
   "outputs": [
    {
     "name": "stdout",
     "output_type": "stream",
     "text": [
      "Chiều cao lớn nhất: 2.1082 m\n",
      "Cân nặng lớn nhất: 131.54167999999999 kg\n"
     ]
    }
   ],
   "source": [
    "# 10. Chiều cao và cân nặng lớn nhất của các cầu thủ.\n",
    "max_height = np.max(arr_height_m)\n",
    "max_weight = np.max(arr_weight_kg)\n",
    "print(\"Chiều cao lớn nhất:\", max_height, \"m\")\n",
    "print(\"Cân nặng lớn nhất:\", max_weight, \"kg\")"
   ]
  },
  {
   "cell_type": "code",
   "execution_count": 13,
   "metadata": {},
   "outputs": [
    {
     "name": "stdout",
     "output_type": "stream",
     "text": [
      "Chiều cao nhỏ nhất: 1.7018 m\n",
      "Cân nặng nhỏ nhất: 68.0388 kg\n"
     ]
    }
   ],
   "source": [
    "# 11. Chiều cao và cân nặng nhỏ nhất của các cầu thủ.\n",
    "min_height = np.min(arr_height_m)\n",
    "min_weight = np.min(arr_weight_kg)\n",
    "print(\"Chiều cao nhỏ nhất:\", min_height, \"m\")\n",
    "print(\"Cân nặng nhỏ nhất:\", min_weight, \"kg\")"
   ]
  }
 ],
 "metadata": {
  "kernelspec": {
   "display_name": "base",
   "language": "python",
   "name": "python3"
  },
  "language_info": {
   "codemirror_mode": {
    "name": "ipython",
    "version": 3
   },
   "file_extension": ".py",
   "mimetype": "text/x-python",
   "name": "python",
   "nbconvert_exporter": "python",
   "pygments_lexer": "ipython3",
   "version": "3.10.10"
  }
 },
 "nbformat": 4,
 "nbformat_minor": 2
}
