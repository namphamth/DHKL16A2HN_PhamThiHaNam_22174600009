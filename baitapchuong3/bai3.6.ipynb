{
 "cells": [
  {
   "cell_type": "code",
   "execution_count": 1,
   "metadata": {},
   "outputs": [
    {
     "name": "stdout",
     "output_type": "stream",
     "text": [
      "arr:\n",
      "[[ True  True  True]\n",
      " [ True  True  True]\n",
      " [ True  True  True]]\n"
     ]
    }
   ],
   "source": [
    "import numpy as np\n",
    "\n",
    "# Tạo array arr có kích thước 3x3 với các giá trị True\n",
    "arr = np.full((3, 3), True)\n",
    "print(\"arr:\")\n",
    "print(arr)\n"
   ]
  },
  {
   "cell_type": "code",
   "execution_count": 2,
   "metadata": {},
   "outputs": [
    {
     "name": "stdout",
     "output_type": "stream",
     "text": [
      "arr_2D sau khi chuyển cột 1 sang cột 3 và ngược lại:\n",
      "[[2 1 0]\n",
      " [5 4 3]\n",
      " [8 7 6]]\n"
     ]
    }
   ],
   "source": [
    "#tạo array 2 chiều có kích thước 3x3 từ arr_1D, và lưu vào arr_2D Trong arr_2D, chuyển cột 1 sang cột 3 và ngược lại.\n",
    "arr_1D = np.array([0, 1, 2, 3, 4, 5, 6, 7, 8])\n",
    "arr_2D = arr_1D.reshape(3, 3)\n",
    "arr_2D[:, [0, 2]] = arr_2D[:, [2, 0]]\n",
    "print(\"arr_2D sau khi chuyển cột 1 sang cột 3 và ngược lại:\")\n",
    "print(arr_2D)"
   ]
  },
  {
   "cell_type": "code",
   "execution_count": 3,
   "metadata": {},
   "outputs": [
    {
     "name": "stdout",
     "output_type": "stream",
     "text": [
      "arr_2D sau khi chuyển dòng 1 sang dòng 2 và ngược lại:\n",
      "[[5 4 3]\n",
      " [2 1 0]\n",
      " [8 7 6]]\n"
     ]
    }
   ],
   "source": [
    "#Từ arr_2D của câu 2 (sau khi đổi thứ tự cột), chuyển dòng 1 sang dòng 2 và ngược lại.\n",
    "arr_2D[[0, 1], :] = arr_2D[[1, 0], :]\n",
    "print(\"arr_2D sau khi chuyển dòng 1 sang dòng 2 và ngược lại:\")\n",
    "print(arr_2D)\n"
   ]
  },
  {
   "cell_type": "code",
   "execution_count": 4,
   "metadata": {},
   "outputs": [
    {
     "name": "stdout",
     "output_type": "stream",
     "text": [
      "arr_2D sau khi đảo ngược các dòng:\n",
      "[[8 7 6]\n",
      " [2 1 0]\n",
      " [5 4 3]]\n"
     ]
    }
   ],
   "source": [
    "#Từ arr_2D của câu 3, đảo ngược các dòng của arr_2D.\n",
    "arr_2D = np.flip(arr_2D, axis=0)\n",
    "print(\"arr_2D sau khi đảo ngược các dòng:\")\n",
    "print(arr_2D)"
   ]
  },
  {
   "cell_type": "code",
   "execution_count": 5,
   "metadata": {},
   "outputs": [
    {
     "name": "stdout",
     "output_type": "stream",
     "text": [
      "arr_2D sau khi đảo ngược các cột:\n",
      "[[6 7 8]\n",
      " [0 1 2]\n",
      " [3 4 5]]\n"
     ]
    }
   ],
   "source": [
    "#Từ arr_2D của câu 4, đảo ngược các cột của arr_2D.\n",
    "arr_2D = np.flip(arr_2D, axis=1)\n",
    "print(\"arr_2D sau khi đảo ngược các cột:\")\n",
    "print(arr_2D)"
   ]
  },
  {
   "cell_type": "code",
   "execution_count": 6,
   "metadata": {},
   "outputs": [
    {
     "name": "stdout",
     "output_type": "stream",
     "text": [
      "Có giá trị rỗng trong array không? True\n"
     ]
    }
   ],
   "source": [
    "#Kiểm tra trong array có giá trị rỗng không?\n",
    "arr_2D_null = np.array([[1, 2, 3], [np.NaN, 5, 6], [7, np.NaN, 9], [4, 5, 6]])\n",
    "has_null_values = np.isnan(arr_2D_null).any()\n",
    "print(\"Có giá trị rỗng trong array không?\", has_null_values)"
   ]
  },
  {
   "cell_type": "code",
   "execution_count": 11,
   "metadata": {},
   "outputs": [
    {
     "name": "stdout",
     "output_type": "stream",
     "text": [
      "arr_2D_null sau khi thay thế giá trị null bằng 0:\n",
      "[[1. 2. 3.]\n",
      " [0. 5. 6.]\n",
      " [7. 0. 9.]\n",
      " [4. 5. 6.]]\n"
     ]
    }
   ],
   "source": [
    "#Từ arr_2D_null của câu 6, thay thế giá trị null bằng 0.\n",
    "arr_2D_null[np.isnan(arr_2D_null)] = 0\n",
    "print(\"arr_2D_null sau khi thay thế giá trị null bằng 0:\")\n",
    "print(arr_2D_null)"
   ]
  }
 ],
 "metadata": {
  "kernelspec": {
   "display_name": "Python 3",
   "language": "python",
   "name": "python3"
  },
  "language_info": {
   "codemirror_mode": {
    "name": "ipython",
    "version": 3
   },
   "file_extension": ".py",
   "mimetype": "text/x-python",
   "name": "python",
   "nbconvert_exporter": "python",
   "pygments_lexer": "ipython3",
   "version": "3.10.10"
  }
 },
 "nbformat": 4,
 "nbformat_minor": 2
}
