{
 "cells": [
  {
   "cell_type": "markdown",
   "metadata": {},
   "source": []
  },
  {
   "cell_type": "code",
   "execution_count": 2,
   "metadata": {},
   "outputs": [
    {
     "data": {
      "text/plain": [
       "array([0, 0, 0, 0, 1, 0, 0, 0, 0, 0])"
      ]
     },
     "execution_count": 2,
     "metadata": {},
     "output_type": "execute_result"
    }
   ],
   "source": [
    "#Tạo arr_zeros có 10 phần tử 0, cập nhật phần tử ở vị trí thứ 5 là 1.\n",
    "\n",
    "import numpy as np\n",
    "arr_zeros = np.zeros(10,dtype=int)\n",
    "arr_zeros[4]=1\n",
    "arr_zeros\n"
   ]
  },
  {
   "cell_type": "code",
   "execution_count": 3,
   "metadata": {},
   "outputs": [
    {
     "data": {
      "text/plain": [
       "array([24, 23, 22, 21, 20, 19, 18, 17, 16, 15, 14, 13, 12, 11, 10])"
      ]
     },
     "execution_count": 3,
     "metadata": {},
     "output_type": "execute_result"
    }
   ],
   "source": [
    "#Tạo arr_h có giá trị từ 10 đến 24. In danh sách các phần tử theo tứ tự đảo ngược của arr_h.\n",
    "arr_h = np.arange(10,25)\n",
    "new_arr_h = arr_h[::-1]\n",
    "new_arr_h"
   ]
  },
  {
   "cell_type": "code",
   "execution_count": 4,
   "metadata": {},
   "outputs": [
    {
     "data": {
      "text/plain": [
       "array([1, 2, 8, 2, 1, 3, 5])"
      ]
     },
     "execution_count": 4,
     "metadata": {},
     "output_type": "execute_result"
    }
   ],
   "source": [
    "#tạo arr_l từ arr_k với các phầntử khác 0.\n",
    "arr_k = np.array([1, 2, 0, 8, 2, 0, 1, 3, 0, 5, 0])\n",
    "arr_l = arr_k[arr_k != 0]\n",
    "arr_l"
   ]
  },
  {
   "cell_type": "code",
   "execution_count": 5,
   "metadata": {},
   "outputs": [
    {
     "data": {
      "text/plain": [
       "array([ 1,  2,  8,  2,  1,  3,  5, 10, 20])"
      ]
     },
     "execution_count": 5,
     "metadata": {},
     "output_type": "execute_result"
    }
   ],
   "source": [
    "#Từ arr_l của câu 3, thêm 2 phần tử có giá trị là 10 và 20 vào cuối array\n",
    "new_arr_l = np.append(arr_l,[10,20])\n",
    "new_arr_l"
   ]
  },
  {
   "cell_type": "code",
   "execution_count": 6,
   "metadata": {},
   "outputs": [
    {
     "data": {
      "text/plain": [
       "array([  1,   2,   8,   2,   1, 100,   3,   5])"
      ]
     },
     "execution_count": 6,
     "metadata": {},
     "output_type": "execute_result"
    }
   ],
   "source": [
    "#thêm phần tử có giá trị 100 vào vị trí có index = 5.\n",
    "new_element = 100\n",
    "index_to_insert = 5\n",
    "new_arr_l5 = np.insert(arr_l,index_to_insert ,new_element)\n",
    "new_arr_l5"
   ]
  },
  {
   "cell_type": "code",
   "execution_count": 8,
   "metadata": {},
   "outputs": [
    {
     "data": {
      "text/plain": [
       "array([  2,   1, 100,   3,   5])"
      ]
     },
     "execution_count": 8,
     "metadata": {},
     "output_type": "execute_result"
    }
   ],
   "source": [
    "#xóa các phần tử tại vị trí có index = 0, 1, 2\n",
    "idx_to_delete = [0,1,2]\n",
    "new_arr_l6 = np.delete(new_arr_l5,idx_to_delete)\n",
    "new_arr_l6"
   ]
  }
 ],
 "metadata": {
  "kernelspec": {
   "display_name": "Python 3",
   "language": "python",
   "name": "python3"
  },
  "language_info": {
   "codemirror_mode": {
    "name": "ipython",
    "version": 3
   },
   "file_extension": ".py",
   "mimetype": "text/x-python",
   "name": "python",
   "nbconvert_exporter": "python",
   "pygments_lexer": "ipython3",
   "version": "3.10.10"
  }
 },
 "nbformat": 4,
 "nbformat_minor": 2
}
